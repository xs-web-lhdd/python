{
 "cells": [
  {
   "cell_type": "code",
   "execution_count": 1,
   "id": "ad0f3579",
   "metadata": {},
   "outputs": [
    {
     "name": "stdout",
     "output_type": "stream",
     "text": [
      "1 2\n"
     ]
    }
   ],
   "source": [
    "a = 1\n",
    "b = 2\n",
    "print(a, b)"
   ]
  },
  {
   "cell_type": "code",
   "execution_count": 3,
   "id": "520f6e50",
   "metadata": {},
   "outputs": [
    {
     "name": "stdout",
     "output_type": "stream",
     "text": [
      "3\n"
     ]
    }
   ],
   "source": [
    "c = a + b\n",
    "print(c)"
   ]
  },
  {
   "cell_type": "code",
   "execution_count": 4,
   "id": "345a7967",
   "metadata": {},
   "outputs": [
    {
     "name": "stdout",
     "output_type": "stream",
     "text": [
      "<class 'list'> [1, 2, 3, 4]\n"
     ]
    }
   ],
   "source": [
    "a = [1,2,3,4]\n",
    "print(type(a), a)"
   ]
  },
  {
   "cell_type": "code",
   "execution_count": 5,
   "id": "f04ca55e",
   "metadata": {},
   "outputs": [
    {
     "name": "stdout",
     "output_type": "stream",
     "text": [
      "<class 'list'> [11, 12, 13, 14]\n"
     ]
    }
   ],
   "source": [
    "# 将 a 中的每一个数字加 10 赋给 b\n",
    "b = [x+10 for x in a]\n",
    "print(type(b), b)"
   ]
  },
  {
   "cell_type": "code",
   "execution_count": 7,
   "id": "32ca252a",
   "metadata": {},
   "outputs": [
    {
     "name": "stdout",
     "output_type": "stream",
     "text": [
      "3\n"
     ]
    }
   ],
   "source": [
    "# 创建函数\n",
    "def plusFunction(a, b):\n",
    "    x = a + b\n",
    "    return x\n",
    "\n",
    "print(plusFunction(1,2))"
   ]
  },
  {
   "cell_type": "code",
   "execution_count": 8,
   "id": "f12e61ac",
   "metadata": {},
   "outputs": [
    {
     "name": "stdout",
     "output_type": "stream",
     "text": [
      "<class 'function'>\n"
     ]
    }
   ],
   "source": [
    "print(type(plusFunction))"
   ]
  },
  {
   "cell_type": "code",
   "execution_count": 11,
   "id": "ba79b761",
   "metadata": {},
   "outputs": [
    {
     "name": "stdout",
     "output_type": "stream",
     "text": [
      "0.981350171162155\n",
      "0.630358369143942\n",
      "0.8736367841053828\n",
      "0.09900026333994605\n",
      "0.32886557729235866\n",
      "0.8936296127547884\n",
      "0.012176531188652473\n",
      "0.8256068876890644\n",
      "0.8031745712660291\n",
      "0.1801141063159638\n"
     ]
    }
   ],
   "source": [
    "# 库模块引入\n",
    "import random\n",
    "for x in [1,2,3,4,5,6,7,8,9,10]:\n",
    "    n = random.random()\n",
    "    print(n)"
   ]
  }
 ],
 "metadata": {
  "kernelspec": {
   "display_name": "Python 3 (ipykernel)",
   "language": "python",
   "name": "python3"
  },
  "language_info": {
   "codemirror_mode": {
    "name": "ipython",
    "version": 3
   },
   "file_extension": ".py",
   "mimetype": "text/x-python",
   "name": "python",
   "nbconvert_exporter": "python",
   "pygments_lexer": "ipython3",
   "version": "3.11.3"
  }
 },
 "nbformat": 4,
 "nbformat_minor": 5
}
