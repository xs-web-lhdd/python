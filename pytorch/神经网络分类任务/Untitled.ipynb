{
 "cells": [
  {
   "cell_type": "markdown",
   "id": "796f76d4",
   "metadata": {},
   "source": [
    "<h1>学习方法：</h1>\n",
    "- 1、边学边用，Torch只是个工具而已"
   ]
  },
  {
   "cell_type": "markdown",
   "id": "892797ba",
   "metadata": {},
   "source": [
    "<h1>Mnist分类任务：</h1>\n",
    "<br/>1、网络基本构建与训练方法，常用函数解析\n",
    "<br/>2、torch.nn.function模块\n",
    "<br/>3、nn.Module模块"
   ]
  },
  {
   "cell_type": "markdown",
   "id": "241368ea",
   "metadata": {},
   "source": [
    "<h2>读取Mnist数据集：</h2>\n",
    "<br/>会自动下载"
   ]
  },
  {
   "cell_type": "code",
   "execution_count": 3,
   "id": "5431efd7",
   "metadata": {},
   "outputs": [
    {
     "name": "stdout",
     "output_type": "stream",
     "text": [
      "2.0.1+cpu\n"
     ]
    }
   ],
   "source": [
    "import torch\n",
    "print(torch.__version__)"
   ]
  },
  {
   "cell_type": "code",
   "execution_count": 4,
   "id": "b3961dfe",
   "metadata": {},
   "outputs": [],
   "source": [
    "%matplotlib inline"
   ]
  },
  {
   "cell_type": "code",
   "execution_count": 8,
   "id": "9cfc043e",
   "metadata": {},
   "outputs": [],
   "source": [
    "# 导入数据：\n",
    "from pathlib import Path\n",
    "import requests\n",
    "\n",
    "DATA_PATH = Path(\"data\")\n",
    "PATH = DATA_PATH / \"mnist\"\n",
    "\n",
    "PATH.mkdir(parents=True, exist_ok=True)\n",
    "\n",
    "URL = \"http://deeplearning.net/data/mnist/\"\n",
    "FILENAME = \"mnist.pkl.gz\"\n",
    "\n",
    "if not (PATH / FILENAME).exists():\n",
    "        content = requests.get(URL + FILENAME).content\n",
    "        (PATH / FILENAME).open(\"wb\").write(content)"
   ]
  },
  {
   "cell_type": "code",
   "execution_count": 15,
   "id": "12a78f91",
   "metadata": {},
   "outputs": [
    {
     "data": {
      "text/plain": [
       "array([[0., 0., 0., ..., 0., 0., 0.],\n",
       "       [0., 0., 0., ..., 0., 0., 0.],\n",
       "       [0., 0., 0., ..., 0., 0., 0.],\n",
       "       ...,\n",
       "       [0., 0., 0., ..., 0., 0., 0.],\n",
       "       [0., 0., 0., ..., 0., 0., 0.],\n",
       "       [0., 0., 0., ..., 0., 0., 0.]], dtype=float32)"
      ]
     },
     "execution_count": 15,
     "metadata": {},
     "output_type": "execute_result"
    }
   ],
   "source": [
    "import pickle\n",
    "import gzip\n",
    "\n",
    "with gzip.open((PATH / FILENAME).as_posix(), \"rb\") as f:\n",
    "        ((x_train, y_train), (x_valid, y_valid), _) = pickle.load(f, encoding=\"latin-1\")"
   ]
  },
  {
   "cell_type": "code",
   "execution_count": 11,
   "id": "fcd87272",
   "metadata": {},
   "outputs": [
    {
     "name": "stdout",
     "output_type": "stream",
     "text": [
      "(50000, 784)\n"
     ]
    },
    {
     "data": {
      "image/png": "[encoded data removed]",
      "text/plain": [
       "<Figure size 640x480 with 1 Axes>"
      ]
     },
     "metadata": {},
     "output_type": "display_data"
    }
   ],
   "source": [
    "from matplotlib import pyplot\n",
    "import numpy as np\n",
    "\n",
    "# 画出灰度图：\n",
    "pyplot.imshow(x_train[0].reshape((28,28)), cmap='gray')\n",
    "print(x_train.shape) # 有 500000个样本，784是其特征，28 × 28 × 1 的图片    x_train[0] 是其中的一个样本"
   ]
  },
  {
   "cell_type": "markdown",
   "id": "92cfb9db",
   "metadata": {},
   "source": [
    "注意数据需转换成tensor才能参与后续建模训练"
   ]
  },
  {
   "cell_type": "code",
   "execution_count": 27,
   "id": "b2aec9c9",
   "metadata": {},
   "outputs": [
    {
     "name": "stderr",
     "output_type": "stream",
     "text": [
      "C:\\Users\\LiuHao\\AppData\\Local\\Temp\\ipykernel_21884\\4093566260.py:3: UserWarning: To copy construct from a tensor, it is recommended to use sourceTensor.clone().detach() or sourceTensor.clone().detach().requires_grad_(True), rather than torch.tensor(sourceTensor).\n",
      "  x_train, y_train, x_valid, y_valid = map(torch.tensor, (x_train, y_train, x_valid, y_valid))\n"
     ]
    },
    {
     "data": {
      "text/plain": [
       "(tensor([[0., 0., 0.,  ..., 0., 0., 0.],\n",
       "         [0., 0., 0.,  ..., 0., 0., 0.],\n",
       "         [0., 0., 0.,  ..., 0., 0., 0.],\n",
       "         ...,\n",
       "         [0., 0., 0.,  ..., 0., 0., 0.],\n",
       "         [0., 0., 0.,  ..., 0., 0., 0.],\n",
       "         [0., 0., 0.,  ..., 0., 0., 0.]]),\n",
       " torch.Size([50000, 784]),\n",
       " tensor(0),\n",
       " tensor(9))"
      ]
     },
     "execution_count": 27,
     "metadata": {},
     "output_type": "execute_result"
    }
   ],
   "source": [
    "import torch\n",
    "# 将数据格式映射为 tensor 的格式\n",
    "x_train, y_train, x_valid, y_valid = map(torch.tensor, (x_train, y_train, x_valid, y_valid))\n",
    "\n",
    "\n",
    "n, c = x_train.shape\n",
    "x_train, x_train.shape, y_train.min(), y_train.max()"
   ]
  },
  {
   "cell_type": "markdown",
   "id": "cd969263",
   "metadata": {},
   "source": [
    "### torch.nn.functional 很多层和函数在这里都会见到\n",
    "\n",
    "torch.nn.functional中有很多功能，后续会常用的。那什么时候使用nn.Module，什么时候使用nn.functional呢？一般情况下，如果模型有可学习的参数，最好用nn.Module，其他情况nn.functional相对更简单一些"
   ]
  },
  {
   "cell_type": "code",
   "execution_count": 28,
   "id": "4591a870",
   "metadata": {},
   "outputs": [],
   "source": [
    "import torch.nn.functional as F\n",
    "\n",
    "# 取到损失函数：\n",
    "loss_func = F.cross_entropy\n",
    "\n",
    "# 矩阵乘法： xw+b\n",
    "def model(xb):\n",
    "    return xb.mm(weights) + bias"
   ]
  },
  {
   "cell_type": "code",
   "execution_count": 29,
   "id": "3a30298c",
   "metadata": {},
   "outputs": [
    {
     "name": "stdout",
     "output_type": "stream",
     "text": [
      "tensor(12.2325, grad_fn=<NllLossBackward0>)\n"
     ]
    }
   ],
   "source": [
    "bs = 64\n",
    "xb = x_train[0:bs]  # a mini-batch from x\n",
    "yb = y_train[0:bs]\n",
    "weights = torch.randn([784, 10], dtype = torch.float,  requires_grad = True) \n",
    "bs = 64\n",
    "bias = torch.zeros(10, requires_grad=True)\n",
    "\n",
    "print(loss_func(model(xb), yb))"
   ]
  },
  {
   "cell_type": "markdown",
   "id": "8fa46146",
   "metadata": {},
   "source": [
    "### 创建一个model来更简化代码\n",
    "- 必须继承nn.Module且在其构造函数中需调用nn.Module的构造函数\n",
    "- 无需写反向传播函数，nn.Module能够利用autograd自动实现反向传播\n",
    "- Module中的可学习参数可以通过named_parameters()或者parameters()返回迭代器"
   ]
  },
  {
   "cell_type": "code",
   "execution_count": 31,
   "id": "c6ce8f8f",
   "metadata": {},
   "outputs": [],
   "source": [
    "from torch import nn\n",
    "\n",
    "# 定义网络结构：\n",
    "class Mnist_NN(nn.Module):\n",
    "    def __init__(self):\n",
    "        super().__init__()\n",
    "        # 输入 784 个像素点，输出128个特征，第一层        \n",
    "        self.hidden1 = nn.Linear(784, 128)\n",
    "        self.hidden2 = nn.Linear(128, 256)\n",
    "        # 最后输出 10 个类别\n",
    "        self.out  = nn.Linear(256, 10)\n",
    "        # 防止过拟合：\n",
    "        self.dropout = nn.Dropout(0.5)\n",
    "\n",
    "    def forward(self, x):\n",
    "        x = F.relu(self.hidden1(x))\n",
    "        x = F.relu(self.hidden2(x))\n",
    "        x = self.out(x)\n",
    "        return x\n",
    "        "
   ]
  },
  {
   "cell_type": "code",
   "execution_count": 32,
   "id": "b3b16024",
   "metadata": {},
   "outputs": [
    {
     "name": "stdout",
     "output_type": "stream",
     "text": [
      "Mnist_NN(\n",
      "  (hidden1): Linear(in_features=784, out_features=128, bias=True)\n",
      "  (hidden2): Linear(in_features=128, out_features=256, bias=True)\n",
      "  (out): Linear(in_features=256, out_features=10, bias=True)\n",
      "  (dropout): Dropout(p=0.5, inplace=False)\n",
      ")\n"
     ]
    }
   ],
   "source": [
    "net = Mnist_NN()\n",
    "print(net)"
   ]
  },
  {
   "cell_type": "markdown",
   "id": "d7e9cb21",
   "metadata": {},
   "source": [
    "可以打印我们定义好名字里的权重和偏置项"
   ]
  },
  {
   "cell_type": "code",
   "execution_count": 33,
   "id": "fd505ef9",
   "metadata": {},
   "outputs": [
    {
     "name": "stdout",
     "output_type": "stream",
     "text": [
      "hidden1.weight Parameter containing:\n",
      "tensor([[ 0.0227, -0.0247,  0.0106,  ...,  0.0284, -0.0268, -0.0165],\n",
      "        [-0.0295, -0.0172,  0.0272,  ..., -0.0338,  0.0217, -0.0274],\n",
      "        [-0.0188, -0.0159, -0.0136,  ...,  0.0100, -0.0310, -0.0010],\n",
      "        ...,\n",
      "        [ 0.0309,  0.0170,  0.0074,  ..., -0.0281,  0.0231, -0.0171],\n",
      "        [-0.0180, -0.0313, -0.0261,  ..., -0.0277, -0.0148, -0.0082],\n",
      "        [ 0.0055,  0.0082,  0.0296,  ..., -0.0084, -0.0241, -0.0029]],\n",
      "       requires_grad=True) torch.Size([128, 784])\n",
      "hidden1.bias Parameter containing:\n",
      "tensor([ 0.0173,  0.0257,  0.0186, -0.0266, -0.0046, -0.0303, -0.0118, -0.0044,\n",
      "        -0.0310,  0.0330,  0.0289, -0.0175, -0.0070,  0.0046, -0.0064,  0.0085,\n",
      "         0.0197, -0.0256, -0.0162,  0.0006, -0.0071, -0.0279, -0.0180,  0.0184,\n",
      "        -0.0056, -0.0006, -0.0085, -0.0258, -0.0172,  0.0290, -0.0251,  0.0249,\n",
      "         0.0057, -0.0130,  0.0202, -0.0136, -0.0307,  0.0250,  0.0216, -0.0199,\n",
      "        -0.0189, -0.0318, -0.0340,  0.0132,  0.0218,  0.0352,  0.0282, -0.0065,\n",
      "         0.0352,  0.0298, -0.0117, -0.0273,  0.0079, -0.0093, -0.0191,  0.0062,\n",
      "        -0.0306, -0.0277,  0.0223, -0.0245,  0.0324, -0.0182,  0.0309,  0.0244,\n",
      "         0.0181,  0.0131,  0.0204,  0.0097,  0.0320, -0.0113, -0.0178, -0.0258,\n",
      "        -0.0009,  0.0279,  0.0076, -0.0241,  0.0294, -0.0356, -0.0092,  0.0200,\n",
      "         0.0330,  0.0310, -0.0303,  0.0350, -0.0080, -0.0043, -0.0093, -0.0315,\n",
      "         0.0226, -0.0236, -0.0084,  0.0014, -0.0024, -0.0340,  0.0338, -0.0334,\n",
      "        -0.0215,  0.0009,  0.0152,  0.0004, -0.0149,  0.0176,  0.0340, -0.0339,\n",
      "        -0.0105,  0.0260,  0.0116,  0.0351,  0.0005, -0.0222,  0.0309, -0.0167,\n",
      "        -0.0173,  0.0254,  0.0353,  0.0077,  0.0225, -0.0191,  0.0284,  0.0300,\n",
      "         0.0352, -0.0150,  0.0313,  0.0159,  0.0032,  0.0296,  0.0100, -0.0028],\n",
      "       requires_grad=True) torch.Size([128])\n",
      "hidden2.weight Parameter containing:\n",
      "tensor([[ 0.0486, -0.0294, -0.0442,  ..., -0.0003, -0.0154,  0.0614],\n",
      "        [-0.0581, -0.0349,  0.0328,  ...,  0.0731, -0.0567,  0.0310],\n",
      "        [-0.0143, -0.0162,  0.0732,  ...,  0.0347, -0.0202, -0.0724],\n",
      "        ...,\n",
      "        [ 0.0015,  0.0176,  0.0673,  ..., -0.0415,  0.0718, -0.0164],\n",
      "        [ 0.0222,  0.0275,  0.0560,  ..., -0.0547,  0.0106,  0.0189],\n",
      "        [-0.0064, -0.0401,  0.0647,  ...,  0.0041, -0.0835, -0.0401]],\n",
      "       requires_grad=True) torch.Size([256, 128])\n",
      "hidden2.bias Parameter containing:\n",
      "tensor([-2.7956e-02,  2.4519e-02, -5.3369e-02,  7.2615e-03, -2.6734e-03,\n",
      "        -2.1989e-02,  6.5577e-02,  2.5994e-02, -4.8823e-02,  2.0134e-02,\n",
      "        -4.8765e-02,  3.3915e-02, -5.8263e-02, -8.1519e-02,  4.1045e-02,\n",
      "        -4.9229e-02, -6.8817e-02,  5.4905e-02,  5.3779e-02, -3.7160e-02,\n",
      "         3.2024e-02,  1.6573e-02, -6.4648e-02,  4.2066e-02, -1.1813e-02,\n",
      "         2.5807e-02,  3.3020e-02,  1.6474e-02,  5.9058e-02,  7.3932e-02,\n",
      "        -3.8204e-02, -6.8734e-02,  5.4842e-03, -5.8753e-02,  2.3183e-03,\n",
      "         6.5138e-02,  6.3917e-02, -3.3676e-02, -7.0011e-02, -6.2873e-03,\n",
      "         4.5356e-03,  6.2666e-02,  4.2257e-02, -2.6660e-02, -1.2956e-02,\n",
      "        -3.1403e-02, -4.4004e-02,  8.1085e-02, -7.2297e-02, -6.8749e-02,\n",
      "         3.0320e-02,  5.4895e-02,  6.1905e-03,  6.5314e-02, -3.0772e-02,\n",
      "         1.9437e-02,  4.8183e-02,  1.4493e-02,  5.5100e-02,  7.3884e-02,\n",
      "         6.8505e-02,  8.5102e-02,  3.1668e-02, -4.5916e-02,  2.2656e-02,\n",
      "        -1.5061e-02,  5.4088e-02,  5.2997e-02,  1.0953e-02, -4.2237e-02,\n",
      "         5.6959e-02, -3.5369e-02,  5.8852e-02,  6.5855e-02, -4.7381e-02,\n",
      "        -5.5197e-02,  2.6466e-03, -2.1766e-02,  6.4000e-02, -9.7573e-05,\n",
      "        -5.8044e-02, -1.7012e-02, -7.4956e-02,  6.1686e-02, -6.7366e-02,\n",
      "        -4.7874e-02, -2.5567e-02, -2.4427e-03,  1.1329e-02, -7.0192e-02,\n",
      "         2.9614e-02,  7.1300e-02, -9.1121e-03, -7.3574e-02, -5.7524e-02,\n",
      "        -1.8667e-02,  7.2506e-02,  7.9293e-02,  1.5347e-02,  1.6271e-02,\n",
      "         8.7605e-02, -1.9621e-03, -4.8105e-02, -4.5745e-02,  8.6011e-02,\n",
      "         5.9150e-02, -2.3904e-02,  7.2266e-03, -1.7878e-02, -8.3563e-02,\n",
      "        -5.5474e-02, -3.3050e-02,  5.8986e-02,  6.8583e-02, -1.0097e-02,\n",
      "        -8.8056e-02,  4.5193e-02,  8.7075e-02,  1.6960e-02, -4.2538e-02,\n",
      "         3.5114e-02,  4.6885e-02, -4.6711e-02,  7.2233e-03, -5.3195e-02,\n",
      "        -2.6198e-02,  5.3791e-02,  2.7353e-02,  4.8550e-02,  1.1831e-02,\n",
      "         4.7941e-02,  7.4487e-02,  3.3012e-02, -8.7960e-02, -1.2978e-02,\n",
      "         5.7604e-02,  3.9753e-02,  6.8297e-02,  6.5197e-02,  4.0487e-02,\n",
      "         3.1810e-02, -6.1845e-02, -1.0852e-02,  2.7054e-02,  6.3750e-02,\n",
      "         4.6785e-02, -8.7565e-03,  7.9962e-02, -6.2306e-02, -5.9727e-02,\n",
      "         3.6399e-02, -6.8328e-02, -2.5075e-02,  4.7183e-02,  6.8688e-02,\n",
      "         6.8590e-02, -8.3692e-02, -8.5638e-02,  4.5060e-02,  7.3640e-02,\n",
      "         5.3030e-02,  8.6781e-02, -7.8773e-02,  3.9718e-02,  4.3514e-02,\n",
      "        -6.7551e-02,  5.6245e-02, -4.2285e-02, -4.0752e-02,  6.8799e-02,\n",
      "         6.9951e-03, -5.4089e-02,  3.1730e-02, -7.3256e-02, -4.6975e-02,\n",
      "         2.7043e-02,  1.6812e-02, -8.8355e-03,  5.8056e-03, -7.5510e-02,\n",
      "         6.1429e-02, -1.9326e-02, -6.5598e-02,  8.1935e-02,  8.0179e-02,\n",
      "         3.3154e-02, -7.2069e-02,  3.0427e-02, -1.4539e-02, -5.7441e-02,\n",
      "         4.3632e-02,  9.3747e-04, -5.1449e-02,  1.7684e-02, -7.3720e-02,\n",
      "         3.9774e-02, -5.0637e-02,  6.3441e-02,  5.0322e-03,  5.2675e-02,\n",
      "        -6.8717e-02,  6.6827e-02, -1.1095e-02,  3.5562e-02, -4.3627e-03,\n",
      "         7.6000e-02, -5.7380e-02, -2.9357e-02,  4.4346e-03,  5.1319e-02,\n",
      "        -2.2334e-02, -4.6798e-02, -1.4116e-02, -5.4695e-02, -9.5038e-03,\n",
      "        -6.9441e-02,  1.3220e-02,  5.0252e-02,  2.0302e-02,  8.9184e-03,\n",
      "         2.3911e-02, -2.4436e-02, -7.3706e-02, -3.5980e-02,  5.2151e-02,\n",
      "         8.2691e-02, -7.9701e-02,  3.0591e-02,  4.2809e-02,  4.3632e-02,\n",
      "         7.2714e-02, -2.7815e-03,  3.3800e-02,  5.3722e-02, -6.3696e-02,\n",
      "         4.5924e-02,  4.2270e-03,  4.5739e-02, -7.3837e-02,  4.7832e-02,\n",
      "        -4.3850e-02,  8.7712e-02,  1.3428e-02,  8.5303e-02, -3.3529e-02,\n",
      "         5.6897e-02,  8.0351e-02, -6.5734e-02, -6.7604e-03,  6.7943e-02,\n",
      "         6.0650e-02,  3.9723e-02,  4.4836e-02,  8.4263e-03,  5.4246e-02,\n",
      "         7.6983e-03], requires_grad=True) torch.Size([256])\n",
      "out.weight Parameter containing:\n",
      "tensor([[ 0.0211, -0.0034, -0.0586,  ..., -0.0140, -0.0180, -0.0512],\n",
      "        [ 0.0205, -0.0571,  0.0287,  ...,  0.0179, -0.0044,  0.0065],\n",
      "        [ 0.0041,  0.0335, -0.0574,  ..., -0.0534, -0.0326, -0.0496],\n",
      "        ...,\n",
      "        [ 0.0158, -0.0555, -0.0303,  ...,  0.0317,  0.0105,  0.0106],\n",
      "        [ 0.0379, -0.0429, -0.0123,  ...,  0.0552, -0.0042,  0.0583],\n",
      "        [-0.0519, -0.0110,  0.0419,  ..., -0.0012, -0.0235,  0.0365]],\n",
      "       requires_grad=True) torch.Size([10, 256])\n",
      "out.bias Parameter containing:\n",
      "tensor([-0.0185,  0.0313, -0.0194,  0.0220,  0.0005,  0.0182,  0.0581,  0.0282,\n",
      "        -0.0616, -0.0542], requires_grad=True) torch.Size([10])\n"
     ]
    }
   ],
   "source": [
    "for name, parameter in net.named_parameters():\n",
    "    # name 是那一层     parameter 权重参数的值    parameter.size() 权重参数矩阵的大小\n",
    "    print(name, parameter,parameter.size())"
   ]
  },
  {
   "cell_type": "markdown",
   "id": "b244316b",
   "metadata": {},
   "source": [
    "### 使用TensorDataset和DataLoader来简化（了解）"
   ]
  },
  {
   "cell_type": "code",
   "execution_count": 35,
   "id": "35f3eb78",
   "metadata": {},
   "outputs": [],
   "source": [
    "from torch.utils.data import TensorDataset\n",
    "from torch.utils.data import DataLoader\n",
    "\n",
    "train_ds = TensorDataset(x_train, y_train)\n",
    "train_dl = DataLoader(train_ds, batch_size=bs, shuffle=True)\n",
    "\n",
    "valid_ds = TensorDataset(x_valid, y_valid)\n",
    "valid_dl = DataLoader(valid_ds, batch_size=bs * 2)"
   ]
  },
  {
   "cell_type": "code",
   "execution_count": 36,
   "id": "3aa44c05",
   "metadata": {},
   "outputs": [],
   "source": [
    "def get_data(train_ds, valid_ds, bs):\n",
    "    return (\n",
    "        DataLoader(train_ds, batch_size=bs, shuffle=True),\n",
    "        DataLoader(valid_ds, batch_size=bs * 2),\n",
    "    )"
   ]
  },
  {
   "cell_type": "markdown",
   "id": "e0f967c0",
   "metadata": {},
   "source": [
    "- 一般在训练模型时加上model.train()，这样会正常使用Batch Normalization和 Dropout\n",
    "- 测试的时候一般选择model.eval()，这样就不会使用Batch Normalization和 Dropout"
   ]
  },
  {
   "cell_type": "code",
   "execution_count": 38,
   "id": "4f3e73c6",
   "metadata": {},
   "outputs": [],
   "source": [
    "import numpy as np\n",
    "\n",
    "# 训练：训练轮数  模型  损失函数  优化器  训练集  测试集\n",
    "def fit(steps, model, loss_func, opt, train_dl, valid_dl):\n",
    "    for step in range(steps):\n",
    "        model.train()\n",
    "        for xb, yb in train_dl:\n",
    "            loss_batch(model, loss_func, xb, yb, opt)\n",
    "\n",
    "        # 验证模式不更新权重参数：\n",
    "        model.eval()\n",
    "        with torch.no_grad():\n",
    "            losses, nums = zip(\n",
    "                *[loss_batch(model, loss_func, xb, yb) for xb, yb in valid_dl]\n",
    "            )\n",
    "        val_loss = np.sum(np.multiply(losses, nums)) / np.sum(nums)\n",
    "        print('当前step:'+str(step), '验证集损失：'+str(val_loss))"
   ]
  },
  {
   "cell_type": "code",
   "execution_count": 49,
   "id": "8a9c6f99",
   "metadata": {},
   "outputs": [],
   "source": [
    "from torch import optim\n",
    "def get_model():\n",
    "    model = Mnist_NN()\n",
    "    return model, optim.Adam(model.parameters(), lr=0.001)"
   ]
  },
  {
   "cell_type": "code",
   "execution_count": 50,
   "id": "dca4e0ea",
   "metadata": {},
   "outputs": [],
   "source": [
    "# 1、计算损失 2、更新 w b\n",
    "def loss_batch(model, loss_func, xb, yb, opt=None):\n",
    "    # 预测值 和 真实值 求出损失\n",
    "    loss = loss_func(model(xb), yb)\n",
    "\n",
    "    if opt is not None:\n",
    "        loss.backward()\n",
    "        opt.step()\n",
    "        opt.zero_grad()\n",
    "\n",
    "    return loss.item(), len(xb)"
   ]
  },
  {
   "cell_type": "markdown",
   "id": "fcd20b26",
   "metadata": {},
   "source": [
    "### 三行搞定！"
   ]
  },
  {
   "cell_type": "code",
   "execution_count": 51,
   "id": "0247fd94",
   "metadata": {},
   "outputs": [
    {
     "name": "stdout",
     "output_type": "stream",
     "text": [
      "当前step:0 验证集损失：0.15223033706992864\n",
      "当前step:1 验证集损失：0.11245819904878736\n",
      "当前step:2 验证集损失：0.10279250837266445\n",
      "当前step:3 验证集损失：0.08979909717291594\n",
      "当前step:4 验证集损失：0.09486353853009641\n",
      "当前step:5 验证集损失：0.09730748088378459\n",
      "当前step:6 验证集损失：0.09725826789867133\n",
      "当前step:7 验证集损失：0.10056960283699445\n",
      "当前step:8 验证集损失：0.09496430078530683\n",
      "当前step:9 验证集损失：0.10042552438732237\n",
      "当前step:10 验证集损失：0.10431984464609705\n",
      "当前step:11 验证集损失：0.10176561226415215\n",
      "当前step:12 验证集损失：0.12788148235137634\n",
      "当前step:13 验证集损失：0.12286423763319618\n",
      "当前step:14 验证集损失：0.11788142966383602\n",
      "当前step:15 验证集损失：0.11963363941271091\n",
      "当前step:16 验证集损失：0.11651170748299046\n",
      "当前step:17 验证集损失：0.1712689236845821\n",
      "当前step:18 验证集损失：0.13933050909949235\n",
      "当前step:19 验证集损失：0.12337002182076685\n",
      "当前step:20 验证集损失：0.13693664496375332\n",
      "当前step:21 验证集损失：0.14421802502000683\n",
      "当前step:22 验证集损失：0.13896525131023227\n",
      "当前step:23 验证集损失：0.13625350249484872\n",
      "当前step:24 验证集损失：0.15268941241114445\n",
      "当前step:25 验证集损失：0.15922742686214333\n",
      "当前step:26 验证集损失：0.14600773748431967\n",
      "当前step:27 验证集损失：0.1554873085472813\n",
      "当前step:28 验证集损失：0.1725946481283252\n",
      "当前step:29 验证集损失：0.15402485723807477\n",
      "当前step:30 验证集损失：0.16113784582929935\n",
      "当前step:31 验证集损失：0.1757395752029166\n",
      "当前step:32 验证集损失：0.16263349457903822\n",
      "当前step:33 验证集损失：0.1516564818519999\n",
      "当前step:34 验证集损失：0.17047144333715697\n",
      "当前step:35 验证集损失：0.15226179696996672\n",
      "当前step:36 验证集损失：0.1739912649198086\n",
      "当前step:37 验证集损失：0.15178088878679846\n",
      "当前step:38 验证集损失：0.1647262515031065\n",
      "当前step:39 验证集损失：0.1634800495479516\n",
      "当前step:40 验证集损失：0.18577658180266154\n",
      "当前step:41 验证集损失：0.17581468188035987\n",
      "当前step:42 验证集损失：0.16874446854011876\n",
      "当前step:43 验证集损失：0.1705313230214403\n",
      "当前step:44 验证集损失：0.15769769901942637\n",
      "当前step:45 验证集损失：0.14850050908586146\n",
      "当前step:46 验证集损失：0.18539006784183465\n",
      "当前step:47 验证集损失：0.16802479130866485\n",
      "当前step:48 验证集损失：0.20745694527236264\n",
      "当前step:49 验证集损失：0.17896632546040328\n",
      "当前step:50 验证集损失：0.1679592539708505\n",
      "当前step:51 验证集损失：0.21231742902740808\n",
      "当前step:52 验证集损失：0.19368047178229897\n",
      "当前step:53 验证集损失：0.1897992792349265\n",
      "当前step:54 验证集损失：0.2038795595523086\n",
      "当前step:55 验证集损失：0.22915854227289165\n",
      "当前step:56 验证集损失：0.21834765514603932\n",
      "当前step:57 验证集损失：0.21129931142353198\n",
      "当前step:58 验证集损失：0.19544749271292966\n",
      "当前step:59 验证集损失：0.19078624775764652\n",
      "当前step:60 验证集损失：0.20475250065217998\n",
      "当前step:61 验证集损失：0.18788029563351302\n",
      "当前step:62 验证集损失：0.2649015570117842\n",
      "当前step:63 验证集损失：0.1981749223630875\n",
      "当前step:64 验证集损失：0.17243905944908036\n",
      "当前step:65 验证集损失：0.1997166657108406\n",
      "当前step:66 验证集损失：0.20334848046596962\n",
      "当前step:67 验证集损失：0.20170981845091668\n",
      "当前step:68 验证集损失：0.21585770951493222\n",
      "当前step:69 验证集损失：0.2029270519957172\n",
      "当前step:70 验证集损失：0.20727955999700015\n",
      "当前step:71 验证集损失：0.2237133508570955\n",
      "当前step:72 验证集损失：0.23534227741430483\n",
      "当前step:73 验证集损失：0.20185515763241563\n",
      "当前step:74 验证集损失：0.20414606389484835\n",
      "当前step:75 验证集损失：0.24162412270488284\n",
      "当前step:76 验证集损失：0.22233936245202113\n",
      "当前step:77 验证集损失：0.2426246203944073\n",
      "当前step:78 验证集损失：0.21543577393589658\n",
      "当前step:79 验证集损失：0.22465758392073332\n",
      "当前step:80 验证集损失：0.24242613727438503\n",
      "当前step:81 验证集损失：0.23602141151015213\n",
      "当前step:82 验证集损失：0.21896041592498078\n",
      "当前step:83 验证集损失：0.20818801512750798\n",
      "当前step:84 验证集损失：0.2450159434010408\n",
      "当前step:85 验证集损失：0.24740067786700246\n",
      "当前step:86 验证集损失：0.22151774484595152\n",
      "当前step:87 验证集损失：0.22591000373252518\n",
      "当前step:88 验证集损失：0.21646315234835978\n",
      "当前step:89 验证集损失：0.23192287483911095\n",
      "当前step:90 验证集损失：0.23688539830305227\n",
      "当前step:91 验证集损失：0.2318699133511106\n",
      "当前step:92 验证集损失：0.24736077780812776\n",
      "当前step:93 验证集损失：0.2562887809596093\n",
      "当前step:94 验证集损失：0.22954345476239682\n",
      "当前step:95 验证集损失：0.26695236028556135\n",
      "当前step:96 验证集损失：0.2608843982877919\n",
      "当前step:97 验证集损失：0.2517833454506455\n",
      "当前step:98 验证集损失：0.23049099574813564\n",
      "当前step:99 验证集损失：0.27623171342740305\n"
     ]
    }
   ],
   "source": [
    "# 将数据进行分包：\n",
    "train_dl, valid_dl = get_data(train_ds, valid_ds, bs)\n",
    "# 拿到模型和优化器：\n",
    "model, opt = get_model()\n",
    "# 进行训练：\n",
    "fit(100, model, loss_func, opt, train_dl, valid_dl)"
   ]
  },
  {
   "cell_type": "markdown",
   "id": "3fe6d0d8",
   "metadata": {},
   "source": [
    "算准确率："
   ]
  },
  {
   "cell_type": "code",
   "execution_count": 52,
   "id": "b4223baa",
   "metadata": {},
   "outputs": [
    {
     "name": "stdout",
     "output_type": "stream",
     "text": [
      "Accuracy of network on the 10000 test images: 97 %\n"
     ]
    }
   ],
   "source": [
    "correct = 0\n",
    "total = 0\n",
    "for xb, yb in valid_dl:\n",
    "    outputs = model(xb)\n",
    "    _, predicted = torch.max(outputs.data, 1) # 最大值，索引\n",
    "    total += yb.size(0)\n",
    "    correct += (predicted == yb).sum().item()\n",
    "    \n",
    "print('Accuracy of network on the 10000 test images: %d %%'%(100 * correct / total))"
   ]
  },
  {
   "cell_type": "markdown",
   "id": "5ea31f47",
   "metadata": {},
   "source": [
    "### 练习：\n",
    "- 1、将优化器由 SGD 改为 Adam\n",
    "- 2、更改网络层数和神经元个数观察效果\n",
    "- 3、计算当前模型的准确率等于多少"
   ]
  },
  {
   "cell_type": "markdown",
   "id": "b8b1b394",
   "metadata": {},
   "source": [
    "- SGD 一百次，准确率 93%, 损失大于 0.22\n",
    "- Adam 一百次，准确率 97%, 损失大于 0.27"
   ]
  },
  {
   "cell_type": "code",
   "execution_count": null,
   "id": "d3a07f06",
   "metadata": {},
   "outputs": [],
   "source": []
  }
 ],
 "metadata": {
  "kernelspec": {
   "display_name": "Python 3 (ipykernel)",
   "language": "python",
   "name": "python3"
  },
  "language_info": {
   "codemirror_mode": {
    "name": "ipython",
    "version": 3
   },
   "file_extension": ".py",
   "mimetype": "text/x-python",
   "name": "python",
   "nbconvert_exporter": "python",
   "pygments_lexer": "ipython3",
   "version": "3.11.3"
  }
 },
 "nbformat": 4,
 "nbformat_minor": 5
}
