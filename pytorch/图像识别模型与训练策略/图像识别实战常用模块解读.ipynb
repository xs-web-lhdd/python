{
 "cells": [
  {
   "cell_type": "markdown",
   "metadata": {},
   "source": [
    "# 基于经典网络架构训练图像分类模型"
   ]
  },
  {
   "cell_type": "markdown",
   "metadata": {},
   "source": [
    "### 数据预处理部分：\n",
    "\n",
    "- 数据增强：torchvision中transforms模块自带功能，比较实用\n",
    "- 数据预处理：torchvision中transforms也帮我们实现好了，直接调用即可\n",
    "- DataLoader模块直接读取batch数据\n",
    "\n",
    "### 网络模块设置：\n",
    "\n",
    "- 加载预训练模型，torchvision中有很多经典网络架构，调用起来十分方便，并且可以用人家训练好的权重参数来继续训练，也就是所谓的迁移学习\n",
    "- 需要注意的是别人训练好的任务跟咱们的可不是完全一样，需要把最后的head层改一改，一般也就是最后的全连接层，改成咱们自己的任务\n",
    "- 训练时可以全部重头训练，也可以只训练最后咱们任务的层，因为前几层都是做特征提取的，本质任务目标是一致的\n",
    "\n",
    "### 网络模型保存与测试\n",
    "- 模型保存的时候可以带有选择性，例如在验证集中如果当前效果好则保存\n",
    "- 读取模型进行实际测试\n",
    "\n",
    "![title](1.png)"
   ]
  },
  {
   "cell_type": "code",
   "execution_count": 1,
   "metadata": {
    "colab": {
     "base_uri": "https://localhost:8080/",
     "height": 530
    },
    "colab_type": "code",
    "id": "Qqk2lCKzYf-y",
    "outputId": "2354909a-d734-4dd8-e887-eb5373d9127e"
   },
   "outputs": [
    {
     "name": "stderr",
     "output_type": "stream",
     "text": [
      "D:\\ProgramData\\Anaconda3\\lib\\site-packages\\numpy\\_distributor_init.py:32: UserWarning: loaded more than 1 DLL from .libs:\n",
      "D:\\ProgramData\\Anaconda3\\lib\\site-packages\\numpy\\.libs\\libopenblas.IPBC74C7KURV7CB2PKT5Z5FNR3SIBV4J.gfortran-win_amd64.dll\n",
      "D:\\ProgramData\\Anaconda3\\lib\\site-packages\\numpy\\.libs\\libopenblas.NOIJJG62EMASZI6NYURL6JBKM4EVBGM7.gfortran-win_amd64.dll\n",
      "  stacklevel=1)\n"
     ]
    }
   ],
   "source": [
    "import os\n",
    "import matplotlib.pyplot as plt\n",
    "%matplotlib inline\n",
    "import numpy as np\n",
    "import torch\n",
    "from torch import nn\n",
    "import torch.optim as optim\n",
    "import torchvision\n",
    "#pip install torchvision\n",
    "from torchvision import transforms, models, datasets\n",
    "#https://pytorch.org/docs/stable/torchvision/index.html\n",
    "import imageio\n",
    "import time\n",
    "import warnings\n",
    "warnings.filterwarnings(\"ignore\")\n",
    "import random\n",
    "import sys\n",
    "import copy\n",
    "import json\n",
    "from PIL import Image"
   ]
  },
  {
   "cell_type": "markdown",
   "metadata": {
    "colab_type": "text",
    "id": "Wa2qCaSOd9_J"
   },
   "source": [
    "### 数据读取与预处理操作"
   ]
  },
  {
   "cell_type": "code",
   "execution_count": 2,
   "metadata": {
    "colab": {},
    "colab_type": "code",
    "collapsed": true,
    "id": "S2lHfvKMd9_J"
   },
   "outputs": [],
   "source": [
    "data_dir = './flower_data/'\n",
    "train_dir = data_dir + '/train'\n",
    "valid_dir = data_dir + '/valid'"
   ]
  },
  {
   "cell_type": "markdown",
   "metadata": {},
   "source": [
    "### 制作好数据源：\n",
    "- data_transforms中指定了所有图像预处理操作\n",
    "- ImageFolder假设所有的文件按文件夹保存好，每个文件夹下面存贮同一类别的图片，文件夹的名字为分类的名字"
   ]
  },
  {
   "cell_type": "code",
   "execution_count": 3,
   "metadata": {
    "colab": {},
    "colab_type": "code",
    "id": "5y6IxsmtQ0hR"
   },
   "outputs": [],
   "source": [
    "data_transforms = {\n",
    "    'train': \n",
    "        transforms.Compose([\n",
    "        transforms.Resize([96, 96]),\n",
    "        transforms.RandomRotation(45),#随机旋转，-45到45度之间随机选\n",
    "        transforms.CenterCrop(64),#从中心开始裁剪\n",
    "        transforms.RandomHorizontalFlip(p=0.5),#随机水平翻转 选择一个概率概率\n",
    "        transforms.RandomVerticalFlip(p=0.5),#随机垂直翻转\n",
    "        transforms.ColorJitter(brightness=0.2, contrast=0.1, saturation=0.1, hue=0.1),#参数1为亮度，参数2为对比度，参数3为饱和度，参数4为色相\n",
    "        transforms.RandomGrayscale(p=0.025),#概率转换成灰度率，3通道就是R=G=B\n",
    "        transforms.ToTensor(),\n",
    "        transforms.Normalize([0.485, 0.456, 0.406], [0.229, 0.224, 0.225])#均值，标准差\n",
    "    ]),\n",
    "    'valid': \n",
    "        transforms.Compose([\n",
    "        transforms.Resize([64, 64]),\n",
    "        transforms.ToTensor(),\n",
    "        transforms.Normalize([0.485, 0.456, 0.406], [0.229, 0.224, 0.225])\n",
    "    ]),\n",
    "}"
   ]
  },
  {
   "cell_type": "code",
   "execution_count": 4,
   "metadata": {
    "colab": {},
    "colab_type": "code",
    "id": "ebneIHSWP74J"
   },
   "outputs": [],
   "source": [
    "batch_size = 128\n",
    "\n",
    "image_datasets = {x: datasets.ImageFolder(os.path.join(data_dir, x), data_transforms[x]) for x in ['train', 'valid']}\n",
    "dataloaders = {x: torch.utils.data.DataLoader(image_datasets[x], batch_size=batch_size, shuffle=True) for x in ['train', 'valid']}\n",
    "dataset_sizes = {x: len(image_datasets[x]) for x in ['train', 'valid']}\n",
    "class_names = image_datasets['train'].classes"
   ]
  },
  {
   "cell_type": "code",
   "execution_count": 5,
   "metadata": {},
   "outputs": [
    {
     "data": {
      "text/plain": [
       "{'train': Dataset ImageFolder\n",
       "     Number of datapoints: 6552\n",
       "     Root location: ./flower_data/train\n",
       "     StandardTransform\n",
       " Transform: Compose(\n",
       "                Resize(size=[96, 96], interpolation=bilinear, max_size=None, antialias=None)\n",
       "                RandomRotation(degrees=[-45.0, 45.0], interpolation=nearest, expand=False, fill=0)\n",
       "                CenterCrop(size=(64, 64))\n",
       "                RandomHorizontalFlip(p=0.5)\n",
       "                RandomVerticalFlip(p=0.5)\n",
       "                ColorJitter(brightness=[0.8, 1.2], contrast=[0.9, 1.1], saturation=[0.9, 1.1], hue=[-0.1, 0.1])\n",
       "                RandomGrayscale(p=0.025)\n",
       "                ToTensor()\n",
       "                Normalize(mean=[0.485, 0.456, 0.406], std=[0.229, 0.224, 0.225])\n",
       "            ), 'valid': Dataset ImageFolder\n",
       "     Number of datapoints: 818\n",
       "     Root location: ./flower_data/valid\n",
       "     StandardTransform\n",
       " Transform: Compose(\n",
       "                Resize(size=[64, 64], interpolation=bilinear, max_size=None, antialias=None)\n",
       "                ToTensor()\n",
       "                Normalize(mean=[0.485, 0.456, 0.406], std=[0.229, 0.224, 0.225])\n",
       "            )}"
      ]
     },
     "execution_count": 5,
     "metadata": {},
     "output_type": "execute_result"
    }
   ],
   "source": [
    "image_datasets"
   ]
  },
  {
   "cell_type": "code",
   "execution_count": 6,
   "metadata": {},
   "outputs": [
    {
     "data": {
      "text/plain": [
       "{'train': <torch.utils.data.dataloader.DataLoader at 0x1e4c50b9400>,\n",
       " 'valid': <torch.utils.data.dataloader.DataLoader at 0x1e4c51ad128>}"
      ]
     },
     "execution_count": 6,
     "metadata": {},
     "output_type": "execute_result"
    }
   ],
   "source": [
    "dataloaders"
   ]
  },
  {
   "cell_type": "code",
   "execution_count": 7,
   "metadata": {},
   "outputs": [
    {
     "data": {
      "text/plain": [
       "{'train': 6552, 'valid': 818}"
      ]
     },
     "execution_count": 7,
     "metadata": {},
     "output_type": "execute_result"
    }
   ],
   "source": [
    "dataset_sizes"
   ]
  },
  {
   "cell_type": "markdown",
   "metadata": {
    "colab_type": "text",
    "id": "8JvBFT6qd9_M"
   },
   "source": [
    "### 读取标签对应的实际名字"
   ]
  },
  {
   "cell_type": "code",
   "execution_count": 8,
   "metadata": {
    "colab": {},
    "colab_type": "code",
    "collapsed": true,
    "id": "YlHjfyDRd9_N"
   },
   "outputs": [],
   "source": [
    "with open('cat_to_name.json', 'r') as f:\n",
    "    cat_to_name = json.load(f)"
   ]
  },
  {
   "cell_type": "code",
   "execution_count": 9,
   "metadata": {
    "colab": {
     "base_uri": "https://localhost:8080/",
     "height": 1751
    },
    "colab_type": "code",
    "id": "SiPBCbEpqX8P",
    "outputId": "0bbdec1b-65bc-4999-9e43-4b448c979cb8"
   },
   "outputs": [
    {
     "data": {
      "text/plain": [
       "{'1': 'pink primrose',\n",
       " '10': 'globe thistle',\n",
       " '100': 'blanket flower',\n",
       " '101': 'trumpet creeper',\n",
       " '102': 'blackberry lily',\n",
       " '11': 'snapdragon',\n",
       " '12': \"colt's foot\",\n",
       " '13': 'king protea',\n",
       " '14': 'spear thistle',\n",
       " '15': 'yellow iris',\n",
       " '16': 'globe-flower',\n",
       " '17': 'purple coneflower',\n",
       " '18': 'peruvian lily',\n",
       " '19': 'balloon flower',\n",
       " '2': 'hard-leaved pocket orchid',\n",
       " '20': 'giant white arum lily',\n",
       " '21': 'fire lily',\n",
       " '22': 'pincushion flower',\n",
       " '23': 'fritillary',\n",
       " '24': 'red ginger',\n",
       " '25': 'grape hyacinth',\n",
       " '26': 'corn poppy',\n",
       " '27': 'prince of wales feathers',\n",
       " '28': 'stemless gentian',\n",
       " '29': 'artichoke',\n",
       " '3': 'canterbury bells',\n",
       " '30': 'sweet william',\n",
       " '31': 'carnation',\n",
       " '32': 'garden phlox',\n",
       " '33': 'love in the mist',\n",
       " '34': 'mexican aster',\n",
       " '35': 'alpine sea holly',\n",
       " '36': 'ruby-lipped cattleya',\n",
       " '37': 'cape flower',\n",
       " '38': 'great masterwort',\n",
       " '39': 'siam tulip',\n",
       " '4': 'sweet pea',\n",
       " '40': 'lenten rose',\n",
       " '41': 'barbeton daisy',\n",
       " '42': 'daffodil',\n",
       " '43': 'sword lily',\n",
       " '44': 'poinsettia',\n",
       " '45': 'bolero deep blue',\n",
       " '46': 'wallflower',\n",
       " '47': 'marigold',\n",
       " '48': 'buttercup',\n",
       " '49': 'oxeye daisy',\n",
       " '5': 'english marigold',\n",
       " '50': 'common dandelion',\n",
       " '51': 'petunia',\n",
       " '52': 'wild pansy',\n",
       " '53': 'primula',\n",
       " '54': 'sunflower',\n",
       " '55': 'pelargonium',\n",
       " '56': 'bishop of llandaff',\n",
       " '57': 'gaura',\n",
       " '58': 'geranium',\n",
       " '59': 'orange dahlia',\n",
       " '6': 'tiger lily',\n",
       " '60': 'pink-yellow dahlia',\n",
       " '61': 'cautleya spicata',\n",
       " '62': 'japanese anemone',\n",
       " '63': 'black-eyed susan',\n",
       " '64': 'silverbush',\n",
       " '65': 'californian poppy',\n",
       " '66': 'osteospermum',\n",
       " '67': 'spring crocus',\n",
       " '68': 'bearded iris',\n",
       " '69': 'windflower',\n",
       " '7': 'moon orchid',\n",
       " '70': 'tree poppy',\n",
       " '71': 'gazania',\n",
       " '72': 'azalea',\n",
       " '73': 'water lily',\n",
       " '74': 'rose',\n",
       " '75': 'thorn apple',\n",
       " '76': 'morning glory',\n",
       " '77': 'passion flower',\n",
       " '78': 'lotus lotus',\n",
       " '79': 'toad lily',\n",
       " '8': 'bird of paradise',\n",
       " '80': 'anthurium',\n",
       " '81': 'frangipani',\n",
       " '82': 'clematis',\n",
       " '83': 'hibiscus',\n",
       " '84': 'columbine',\n",
       " '85': 'desert-rose',\n",
       " '86': 'tree mallow',\n",
       " '87': 'magnolia',\n",
       " '88': 'cyclamen',\n",
       " '89': 'watercress',\n",
       " '9': 'monkshood',\n",
       " '90': 'canna lily',\n",
       " '91': 'hippeastrum',\n",
       " '92': 'bee balm',\n",
       " '93': 'ball moss',\n",
       " '94': 'foxglove',\n",
       " '95': 'bougainvillea',\n",
       " '96': 'camellia',\n",
       " '97': 'mallow',\n",
       " '98': 'mexican petunia',\n",
       " '99': 'bromelia'}"
      ]
     },
     "execution_count": 9,
     "metadata": {},
     "output_type": "execute_result"
    }
   ],
   "source": [
    "cat_to_name"
   ]
  },
  {
   "cell_type": "markdown",
   "metadata": {
    "colab_type": "text",
    "id": "wSBGNSA8RPfU"
   },
   "source": [
    "### 加载models中提供的模型，并且直接用训练的好权重当做初始化参数\n",
    "- 第一次执行需要下载，可能会比较慢，我会提供给大家一份下载好的，可以直接放到相应路径"
   ]
  },
  {
   "cell_type": "code",
   "execution_count": 10,
   "metadata": {
    "cellView": "form",
    "colab": {},
    "colab_type": "code",
    "collapsed": true,
    "id": "OWVvodU_PfBC"
   },
   "outputs": [],
   "source": [
    "model_name = 'resnet'  #可选的比较多 ['resnet', 'alexnet', 'vgg', 'squeezenet', 'densenet', 'inception']\n",
    "#是否用人家训练好的特征来做\n",
    "feature_extract = True #都用人家特征，咱先不更新"
   ]
  },
  {
   "cell_type": "code",
   "execution_count": 11,
   "metadata": {
    "colab": {
     "base_uri": "https://localhost:8080/",
     "height": 34
    },
    "colab_type": "code",
    "id": "pU4AlTEuiBtZ",
    "outputId": "54868c22-b059-4eda-9e4f-0911a4b372b9"
   },
   "outputs": [
    {
     "name": "stdout",
     "output_type": "stream",
     "text": [
      "CUDA is not available.  Training on CPU ...\n"
     ]
    }
   ],
   "source": [
    "# 是否用GPU训练\n",
    "train_on_gpu = torch.cuda.is_available()\n",
    "\n",
    "if not train_on_gpu:\n",
    "    print('CUDA is not available.  Training on CPU ...')\n",
    "else:\n",
    "    print('CUDA is available!  Training on GPU ...')\n",
    "    \n",
    "device = torch.device(\"cuda:0\" if torch.cuda.is_available() else \"cpu\")"
   ]
  },
  {
   "cell_type": "markdown",
   "metadata": {},
   "source": [
    "#### 模型参数要不要更新\n",
    "- 有时候用人家模型，就一直用了，更不更新咱们可以自己定"
   ]
  },
  {
   "cell_type": "code",
   "execution_count": 12,
   "metadata": {
    "colab": {},
    "colab_type": "code",
    "collapsed": true,
    "id": "tfjrGAg5W5dE"
   },
   "outputs": [],
   "source": [
    "def set_parameter_requires_grad(model, feature_extracting):\n",
    "    if feature_extracting:\n",
    "        for param in model.parameters():\n",
    "            param.requires_grad = False"
   ]
  },
  {
   "cell_type": "code",
   "execution_count": 13,
   "metadata": {},
   "outputs": [
    {
     "data": {
      "text/plain": [
       "ResNet(\n",
       "  (conv1): Conv2d(3, 64, kernel_size=(7, 7), stride=(2, 2), padding=(3, 3), bias=False)\n",
       "  (bn1): BatchNorm2d(64, eps=1e-05, momentum=0.1, affine=True, track_running_stats=True)\n",
       "  (relu): ReLU(inplace=True)\n",
       "  (maxpool): MaxPool2d(kernel_size=3, stride=2, padding=1, dilation=1, ceil_mode=False)\n",
       "  (layer1): Sequential(\n",
       "    (0): BasicBlock(\n",
       "      (conv1): Conv2d(64, 64, kernel_size=(3, 3), stride=(1, 1), padding=(1, 1), bias=False)\n",
       "      (bn1): BatchNorm2d(64, eps=1e-05, momentum=0.1, affine=True, track_running_stats=True)\n",
       "      (relu): ReLU(inplace=True)\n",
       "      (conv2): Conv2d(64, 64, kernel_size=(3, 3), stride=(1, 1), padding=(1, 1), bias=False)\n",
       "      (bn2): BatchNorm2d(64, eps=1e-05, momentum=0.1, affine=True, track_running_stats=True)\n",
       "    )\n",
       "    (1): BasicBlock(\n",
       "      (conv1): Conv2d(64, 64, kernel_size=(3, 3), stride=(1, 1), padding=(1, 1), bias=False)\n",
       "      (bn1): BatchNorm2d(64, eps=1e-05, momentum=0.1, affine=True, track_running_stats=True)\n",
       "      (relu): ReLU(inplace=True)\n",
       "      (conv2): Conv2d(64, 64, kernel_size=(3, 3), stride=(1, 1), padding=(1, 1), bias=False)\n",
       "      (bn2): BatchNorm2d(64, eps=1e-05, momentum=0.1, affine=True, track_running_stats=True)\n",
       "    )\n",
       "  )\n",
       "  (layer2): Sequential(\n",
       "    (0): BasicBlock(\n",
       "      (conv1): Conv2d(64, 128, kernel_size=(3, 3), stride=(2, 2), padding=(1, 1), bias=False)\n",
       "      (bn1): BatchNorm2d(128, eps=1e-05, momentum=0.1, affine=True, track_running_stats=True)\n",
       "      (relu): ReLU(inplace=True)\n",
       "      (conv2): Conv2d(128, 128, kernel_size=(3, 3), stride=(1, 1), padding=(1, 1), bias=False)\n",
       "      (bn2): BatchNorm2d(128, eps=1e-05, momentum=0.1, affine=True, track_running_stats=True)\n",
       "      (downsample): Sequential(\n",
       "        (0): Conv2d(64, 128, kernel_size=(1, 1), stride=(2, 2), bias=False)\n",
       "        (1): BatchNorm2d(128, eps=1e-05, momentum=0.1, affine=True, track_running_stats=True)\n",
       "      )\n",
       "    )\n",
       "    (1): BasicBlock(\n",
       "      (conv1): Conv2d(128, 128, kernel_size=(3, 3), stride=(1, 1), padding=(1, 1), bias=False)\n",
       "      (bn1): BatchNorm2d(128, eps=1e-05, momentum=0.1, affine=True, track_running_stats=True)\n",
       "      (relu): ReLU(inplace=True)\n",
       "      (conv2): Conv2d(128, 128, kernel_size=(3, 3), stride=(1, 1), padding=(1, 1), bias=False)\n",
       "      (bn2): BatchNorm2d(128, eps=1e-05, momentum=0.1, affine=True, track_running_stats=True)\n",
       "    )\n",
       "  )\n",
       "  (layer3): Sequential(\n",
       "    (0): BasicBlock(\n",
       "      (conv1): Conv2d(128, 256, kernel_size=(3, 3), stride=(2, 2), padding=(1, 1), bias=False)\n",
       "      (bn1): BatchNorm2d(256, eps=1e-05, momentum=0.1, affine=True, track_running_stats=True)\n",
       "      (relu): ReLU(inplace=True)\n",
       "      (conv2): Conv2d(256, 256, kernel_size=(3, 3), stride=(1, 1), padding=(1, 1), bias=False)\n",
       "      (bn2): BatchNorm2d(256, eps=1e-05, momentum=0.1, affine=True, track_running_stats=True)\n",
       "      (downsample): Sequential(\n",
       "        (0): Conv2d(128, 256, kernel_size=(1, 1), stride=(2, 2), bias=False)\n",
       "        (1): BatchNorm2d(256, eps=1e-05, momentum=0.1, affine=True, track_running_stats=True)\n",
       "      )\n",
       "    )\n",
       "    (1): BasicBlock(\n",
       "      (conv1): Conv2d(256, 256, kernel_size=(3, 3), stride=(1, 1), padding=(1, 1), bias=False)\n",
       "      (bn1): BatchNorm2d(256, eps=1e-05, momentum=0.1, affine=True, track_running_stats=True)\n",
       "      (relu): ReLU(inplace=True)\n",
       "      (conv2): Conv2d(256, 256, kernel_size=(3, 3), stride=(1, 1), padding=(1, 1), bias=False)\n",
       "      (bn2): BatchNorm2d(256, eps=1e-05, momentum=0.1, affine=True, track_running_stats=True)\n",
       "    )\n",
       "  )\n",
       "  (layer4): Sequential(\n",
       "    (0): BasicBlock(\n",
       "      (conv1): Conv2d(256, 512, kernel_size=(3, 3), stride=(2, 2), padding=(1, 1), bias=False)\n",
       "      (bn1): BatchNorm2d(512, eps=1e-05, momentum=0.1, affine=True, track_running_stats=True)\n",
       "      (relu): ReLU(inplace=True)\n",
       "      (conv2): Conv2d(512, 512, kernel_size=(3, 3), stride=(1, 1), padding=(1, 1), bias=False)\n",
       "      (bn2): BatchNorm2d(512, eps=1e-05, momentum=0.1, affine=True, track_running_stats=True)\n",
       "      (downsample): Sequential(\n",
       "        (0): Conv2d(256, 512, kernel_size=(1, 1), stride=(2, 2), bias=False)\n",
       "        (1): BatchNorm2d(512, eps=1e-05, momentum=0.1, affine=True, track_running_stats=True)\n",
       "      )\n",
       "    )\n",
       "    (1): BasicBlock(\n",
       "      (conv1): Conv2d(512, 512, kernel_size=(3, 3), stride=(1, 1), padding=(1, 1), bias=False)\n",
       "      (bn1): BatchNorm2d(512, eps=1e-05, momentum=0.1, affine=True, track_running_stats=True)\n",
       "      (relu): ReLU(inplace=True)\n",
       "      (conv2): Conv2d(512, 512, kernel_size=(3, 3), stride=(1, 1), padding=(1, 1), bias=False)\n",
       "      (bn2): BatchNorm2d(512, eps=1e-05, momentum=0.1, affine=True, track_running_stats=True)\n",
       "    )\n",
       "  )\n",
       "  (avgpool): AdaptiveAvgPool2d(output_size=(1, 1))\n",
       "  (fc): Linear(in_features=512, out_features=1000, bias=True)\n",
       ")"
      ]
     },
     "execution_count": 13,
     "metadata": {},
     "output_type": "execute_result"
    }
   ],
   "source": [
    "model_ft = models.resnet18()#18层的能快点，条件好点的也可以选152\n",
    "model_ft"
   ]
  },
  {
   "cell_type": "markdown",
   "metadata": {},
   "source": [
    "### 把模型输出层改成自己的"
   ]
  },
  {
   "cell_type": "code",
   "execution_count": 14,
   "metadata": {
    "colab": {},
    "colab_type": "code",
    "collapsed": true,
    "id": "D85BPk2GXBbj"
   },
   "outputs": [],
   "source": [
    "def initialize_model(model_name, num_classes, feature_extract, use_pretrained=True):\n",
    "    \n",
    "    model_ft = models.resnet18(pretrained=use_pretrained)\n",
    "    set_parameter_requires_grad(model_ft, feature_extract)\n",
    "    \n",
    "    num_ftrs = model_ft.fc.in_features\n",
    "    model_ft.fc = nn.Linear(num_ftrs, 102)#类别数自己根据自己任务来\n",
    "                            \n",
    "    input_size = 64#输入大小根据自己配置来\n",
    "\n",
    "    return model_ft, input_size"
   ]
  },
  {
   "cell_type": "markdown",
   "metadata": {
    "colab_type": "text",
    "id": "o3PCsZshRgSG"
   },
   "source": [
    "### 设置哪些层需要训练"
   ]
  },
  {
   "cell_type": "code",
   "execution_count": 15,
   "metadata": {
    "colab": {
     "base_uri": "https://localhost:8080/",
     "height": 102
    },
    "colab_type": "code",
    "id": "Nu5_c1aNU3L9",
    "outputId": "46daeef6-d017-409f-a154-8ca530765f80"
   },
   "outputs": [
    {
     "name": "stdout",
     "output_type": "stream",
     "text": [
      "Params to learn:\n",
      "\t fc.weight\n",
      "\t fc.bias\n"
     ]
    }
   ],
   "source": [
    "model_ft, input_size = initialize_model(model_name, 102, feature_extract, use_pretrained=True)\n",
    "\n",
    "#GPU还是CPU计算\n",
    "model_ft = model_ft.to(device)\n",
    "\n",
    "# 模型保存，名字自己起\n",
    "filename='checkpoint.pth'\n",
    "\n",
    "# 是否训练所有层\n",
    "params_to_update = model_ft.parameters()\n",
    "print(\"Params to learn:\")\n",
    "if feature_extract:\n",
    "    params_to_update = []\n",
    "    for name,param in model_ft.named_parameters():\n",
    "        if param.requires_grad == True:\n",
    "            params_to_update.append(param)\n",
    "            print(\"\\t\",name)\n",
    "else:\n",
    "    for name,param in model_ft.named_parameters():\n",
    "        if param.requires_grad == True:\n",
    "            print(\"\\t\",name)"
   ]
  },
  {
   "cell_type": "code",
   "execution_count": 16,
   "metadata": {},
   "outputs": [
    {
     "data": {
      "text/plain": [
       "ResNet(\n",
       "  (conv1): Conv2d(3, 64, kernel_size=(7, 7), stride=(2, 2), padding=(3, 3), bias=False)\n",
       "  (bn1): BatchNorm2d(64, eps=1e-05, momentum=0.1, affine=True, track_running_stats=True)\n",
       "  (relu): ReLU(inplace=True)\n",
       "  (maxpool): MaxPool2d(kernel_size=3, stride=2, padding=1, dilation=1, ceil_mode=False)\n",
       "  (layer1): Sequential(\n",
       "    (0): BasicBlock(\n",
       "      (conv1): Conv2d(64, 64, kernel_size=(3, 3), stride=(1, 1), padding=(1, 1), bias=False)\n",
       "      (bn1): BatchNorm2d(64, eps=1e-05, momentum=0.1, affine=True, track_running_stats=True)\n",
       "      (relu): ReLU(inplace=True)\n",
       "      (conv2): Conv2d(64, 64, kernel_size=(3, 3), stride=(1, 1), padding=(1, 1), bias=False)\n",
       "      (bn2): BatchNorm2d(64, eps=1e-05, momentum=0.1, affine=True, track_running_stats=True)\n",
       "    )\n",
       "    (1): BasicBlock(\n",
       "      (conv1): Conv2d(64, 64, kernel_size=(3, 3), stride=(1, 1), padding=(1, 1), bias=False)\n",
       "      (bn1): BatchNorm2d(64, eps=1e-05, momentum=0.1, affine=True, track_running_stats=True)\n",
       "      (relu): ReLU(inplace=True)\n",
       "      (conv2): Conv2d(64, 64, kernel_size=(3, 3), stride=(1, 1), padding=(1, 1), bias=False)\n",
       "      (bn2): BatchNorm2d(64, eps=1e-05, momentum=0.1, affine=True, track_running_stats=True)\n",
       "    )\n",
       "  )\n",
       "  (layer2): Sequential(\n",
       "    (0): BasicBlock(\n",
       "      (conv1): Conv2d(64, 128, kernel_size=(3, 3), stride=(2, 2), padding=(1, 1), bias=False)\n",
       "      (bn1): BatchNorm2d(128, eps=1e-05, momentum=0.1, affine=True, track_running_stats=True)\n",
       "      (relu): ReLU(inplace=True)\n",
       "      (conv2): Conv2d(128, 128, kernel_size=(3, 3), stride=(1, 1), padding=(1, 1), bias=False)\n",
       "      (bn2): BatchNorm2d(128, eps=1e-05, momentum=0.1, affine=True, track_running_stats=True)\n",
       "      (downsample): Sequential(\n",
       "        (0): Conv2d(64, 128, kernel_size=(1, 1), stride=(2, 2), bias=False)\n",
       "        (1): BatchNorm2d(128, eps=1e-05, momentum=0.1, affine=True, track_running_stats=True)\n",
       "      )\n",
       "    )\n",
       "    (1): BasicBlock(\n",
       "      (conv1): Conv2d(128, 128, kernel_size=(3, 3), stride=(1, 1), padding=(1, 1), bias=False)\n",
       "      (bn1): BatchNorm2d(128, eps=1e-05, momentum=0.1, affine=True, track_running_stats=True)\n",
       "      (relu): ReLU(inplace=True)\n",
       "      (conv2): Conv2d(128, 128, kernel_size=(3, 3), stride=(1, 1), padding=(1, 1), bias=False)\n",
       "      (bn2): BatchNorm2d(128, eps=1e-05, momentum=0.1, affine=True, track_running_stats=True)\n",
       "    )\n",
       "  )\n",
       "  (layer3): Sequential(\n",
       "    (0): BasicBlock(\n",
       "      (conv1): Conv2d(128, 256, kernel_size=(3, 3), stride=(2, 2), padding=(1, 1), bias=False)\n",
       "      (bn1): BatchNorm2d(256, eps=1e-05, momentum=0.1, affine=True, track_running_stats=True)\n",
       "      (relu): ReLU(inplace=True)\n",
       "      (conv2): Conv2d(256, 256, kernel_size=(3, 3), stride=(1, 1), padding=(1, 1), bias=False)\n",
       "      (bn2): BatchNorm2d(256, eps=1e-05, momentum=0.1, affine=True, track_running_stats=True)\n",
       "      (downsample): Sequential(\n",
       "        (0): Conv2d(128, 256, kernel_size=(1, 1), stride=(2, 2), bias=False)\n",
       "        (1): BatchNorm2d(256, eps=1e-05, momentum=0.1, affine=True, track_running_stats=True)\n",
       "      )\n",
       "    )\n",
       "    (1): BasicBlock(\n",
       "      (conv1): Conv2d(256, 256, kernel_size=(3, 3), stride=(1, 1), padding=(1, 1), bias=False)\n",
       "      (bn1): BatchNorm2d(256, eps=1e-05, momentum=0.1, affine=True, track_running_stats=True)\n",
       "      (relu): ReLU(inplace=True)\n",
       "      (conv2): Conv2d(256, 256, kernel_size=(3, 3), stride=(1, 1), padding=(1, 1), bias=False)\n",
       "      (bn2): BatchNorm2d(256, eps=1e-05, momentum=0.1, affine=True, track_running_stats=True)\n",
       "    )\n",
       "  )\n",
       "  (layer4): Sequential(\n",
       "    (0): BasicBlock(\n",
       "      (conv1): Conv2d(256, 512, kernel_size=(3, 3), stride=(2, 2), padding=(1, 1), bias=False)\n",
       "      (bn1): BatchNorm2d(512, eps=1e-05, momentum=0.1, affine=True, track_running_stats=True)\n",
       "      (relu): ReLU(inplace=True)\n",
       "      (conv2): Conv2d(512, 512, kernel_size=(3, 3), stride=(1, 1), padding=(1, 1), bias=False)\n",
       "      (bn2): BatchNorm2d(512, eps=1e-05, momentum=0.1, affine=True, track_running_stats=True)\n",
       "      (downsample): Sequential(\n",
       "        (0): Conv2d(256, 512, kernel_size=(1, 1), stride=(2, 2), bias=False)\n",
       "        (1): BatchNorm2d(512, eps=1e-05, momentum=0.1, affine=True, track_running_stats=True)\n",
       "      )\n",
       "    )\n",
       "    (1): BasicBlock(\n",
       "      (conv1): Conv2d(512, 512, kernel_size=(3, 3), stride=(1, 1), padding=(1, 1), bias=False)\n",
       "      (bn1): BatchNorm2d(512, eps=1e-05, momentum=0.1, affine=True, track_running_stats=True)\n",
       "      (relu): ReLU(inplace=True)\n",
       "      (conv2): Conv2d(512, 512, kernel_size=(3, 3), stride=(1, 1), padding=(1, 1), bias=False)\n",
       "      (bn2): BatchNorm2d(512, eps=1e-05, momentum=0.1, affine=True, track_running_stats=True)\n",
       "    )\n",
       "  )\n",
       "  (avgpool): AdaptiveAvgPool2d(output_size=(1, 1))\n",
       "  (fc): Linear(in_features=512, out_features=102, bias=True)\n",
       ")"
      ]
     },
     "execution_count": 16,
     "metadata": {},
     "output_type": "execute_result"
    }
   ],
   "source": [
    "model_ft"
   ]
  },
  {
   "cell_type": "markdown",
   "metadata": {
    "colab_type": "text",
    "id": "M0RxpAEhR7lL"
   },
   "source": [
    "### 优化器设置"
   ]
  },
  {
   "cell_type": "code",
   "execution_count": 17,
   "metadata": {
    "colab": {},
    "colab_type": "code",
    "collapsed": true,
    "id": "baLfYCINRI_H"
   },
   "outputs": [],
   "source": [
    "# 优化器设置\n",
    "optimizer_ft = optim.Adam(params_to_update, lr=1e-2)#要训练啥参数，你来定\n",
    "scheduler = optim.lr_scheduler.StepLR(optimizer_ft, step_size=10, gamma=0.1)#学习率每7个epoch衰减成原来的1/10\n",
    "criterion = nn.CrossEntropyLoss()"
   ]
  },
  {
   "cell_type": "markdown",
   "metadata": {
    "colab_type": "text",
    "id": "s-PpMk90ShRz"
   },
   "source": [
    "### 训练模块"
   ]
  },
  {
   "cell_type": "code",
   "execution_count": 18,
   "metadata": {
    "colab": {},
    "colab_type": "code",
    "id": "EzPXJbyZXuK0"
   },
   "outputs": [],
   "source": [
    "def train_model(model, dataloaders, criterion, optimizer, num_epochs=25,filename='best.pt'):\n",
    "    #咱们要算时间的\n",
    "    since = time.time()\n",
    "    #也要记录最好的那一次\n",
    "    best_acc = 0\n",
    "    #模型也得放到你的CPU或者GPU\n",
    "    model.to(device)\n",
    "    #训练过程中打印一堆损失和指标\n",
    "    val_acc_history = []\n",
    "    train_acc_history = []\n",
    "    train_losses = []\n",
    "    valid_losses = []\n",
    "    #学习率\n",
    "    LRs = [optimizer.param_groups[0]['lr']]\n",
    "    #最好的那次模型，后续会变的，先初始化\n",
    "    best_model_wts = copy.deepcopy(model.state_dict())\n",
    "    #一个个epoch来遍历\n",
    "    for epoch in range(num_epochs):\n",
    "        print('Epoch {}/{}'.format(epoch, num_epochs - 1))\n",
    "        print('-' * 10)\n",
    "\n",
    "        # 训练和验证\n",
    "        for phase in ['train', 'valid']:\n",
    "            if phase == 'train':\n",
    "                model.train()  # 训练\n",
    "            else:\n",
    "                model.eval()   # 验证\n",
    "\n",
    "            running_loss = 0.0\n",
    "            running_corrects = 0\n",
    "\n",
    "            # 把数据都取个遍\n",
    "            for inputs, labels in dataloaders[phase]:\n",
    "                inputs = inputs.to(device)#放到你的CPU或GPU\n",
    "                labels = labels.to(device)\n",
    "\n",
    "                # 清零\n",
    "                optimizer.zero_grad()\n",
    "                # 只有训练的时候计算和更新梯度\n",
    "                outputs = model(inputs)\n",
    "                loss = criterion(outputs, labels)\n",
    "                _, preds = torch.max(outputs, 1)\n",
    "                # 训练阶段更新权重\n",
    "                if phase == 'train':\n",
    "                    loss.backward()\n",
    "                    optimizer.step()\n",
    "\n",
    "                # 计算损失\n",
    "                running_loss += loss.item() * inputs.size(0)#0表示batch那个维度\n",
    "                running_corrects += torch.sum(preds == labels.data)#预测结果最大的和真实值是否一致\n",
    "                \n",
    "            \n",
    "            \n",
    "            epoch_loss = running_loss / len(dataloaders[phase].dataset)#算平均\n",
    "            epoch_acc = running_corrects.double() / len(dataloaders[phase].dataset)\n",
    "            \n",
    "            time_elapsed = time.time() - since#一个epoch我浪费了多少时间\n",
    "            print('Time elapsed {:.0f}m {:.0f}s'.format(time_elapsed // 60, time_elapsed % 60))\n",
    "            print('{} Loss: {:.4f} Acc: {:.4f}'.format(phase, epoch_loss, epoch_acc))\n",
    "            \n",
    "\n",
    "            # 得到最好那次的模型\n",
    "            if phase == 'valid' and epoch_acc > best_acc:\n",
    "                best_acc = epoch_acc\n",
    "                best_model_wts = copy.deepcopy(model.state_dict())\n",
    "                state = {\n",
    "                  'state_dict': model.state_dict(),#字典里key就是各层的名字，值就是训练好的权重\n",
    "                  'best_acc': best_acc,\n",
    "                  'optimizer' : optimizer.state_dict(),\n",
    "                }\n",
    "                torch.save(state, filename)\n",
    "            if phase == 'valid':\n",
    "                val_acc_history.append(epoch_acc)\n",
    "                valid_losses.append(epoch_loss)\n",
    "                #scheduler.step(epoch_loss)#学习率衰减\n",
    "            if phase == 'train':\n",
    "                train_acc_history.append(epoch_acc)\n",
    "                train_losses.append(epoch_loss)\n",
    "        \n",
    "        print('Optimizer learning rate : {:.7f}'.format(optimizer.param_groups[0]['lr']))\n",
    "        LRs.append(optimizer.param_groups[0]['lr'])\n",
    "        print()\n",
    "        scheduler.step()#学习率衰减\n",
    "\n",
    "    time_elapsed = time.time() - since\n",
    "    print('Training complete in {:.0f}m {:.0f}s'.format(time_elapsed // 60, time_elapsed % 60))\n",
    "    print('Best val Acc: {:4f}'.format(best_acc))\n",
    "\n",
    "    # 训练完后用最好的一次当做模型最终的结果,等着一会测试\n",
    "    model.load_state_dict(best_model_wts)\n",
    "    return model, val_acc_history, train_acc_history, valid_losses, train_losses, LRs "
   ]
  },
  {
   "cell_type": "markdown",
   "metadata": {},
   "source": [
    "### 开始训练！\n",
    "\n",
    "- 我们现在只训练了输出层"
   ]
  },
  {
   "cell_type": "code",
   "execution_count": 19,
   "metadata": {
    "colab": {},
    "colab_type": "code",
    "id": "MXbS16p_j5U0"
   },
   "outputs": [
    {
     "name": "stdout",
     "output_type": "stream",
     "text": [
      "Epoch 0/19\n",
      "----------\n",
      "Time elapsed 0m 39s\n",
      "train Loss: 4.0874 Acc: 0.2355\n",
      "Time elapsed 0m 43s\n",
      "valid Loss: 3.5746 Acc: 0.2531\n",
      "Optimizer learning rate : 0.0100000\n",
      "\n",
      "Epoch 1/19\n",
      "----------\n",
      "Time elapsed 1m 22s\n",
      "train Loss: 2.8185 Acc: 0.3953\n",
      "Time elapsed 1m 26s\n",
      "valid Loss: 3.5450 Acc: 0.3142\n",
      "Optimizer learning rate : 0.0100000\n",
      "\n",
      "Epoch 2/19\n",
      "----------\n",
      "Time elapsed 2m 5s\n",
      "train Loss: 2.7673 Acc: 0.4174\n",
      "Time elapsed 2m 9s\n",
      "valid Loss: 3.9110 Acc: 0.2653\n",
      "Optimizer learning rate : 0.0100000\n",
      "\n",
      "Epoch 3/19\n",
      "----------\n",
      "Time elapsed 2m 48s\n",
      "train Loss: 2.7962 Acc: 0.4255\n",
      "Time elapsed 2m 52s\n",
      "valid Loss: 3.6922 Acc: 0.3142\n",
      "Optimizer learning rate : 0.0100000\n",
      "\n",
      "Epoch 4/19\n",
      "----------\n",
      "Time elapsed 3m 32s\n",
      "train Loss: 2.7453 Acc: 0.4428\n",
      "Time elapsed 3m 36s\n",
      "valid Loss: 3.9310 Acc: 0.3044\n",
      "Optimizer learning rate : 0.0100000\n",
      "\n",
      "Epoch 5/19\n",
      "----------\n",
      "Time elapsed 4m 14s\n",
      "train Loss: 2.2935 Acc: 0.5043\n",
      "Time elapsed 4m 18s\n",
      "valid Loss: 3.3299 Acc: 0.3435\n",
      "Optimizer learning rate : 0.0010000\n",
      "\n",
      "Epoch 6/19\n",
      "----------\n",
      "Time elapsed 4m 57s\n",
      "train Loss: 2.0654 Acc: 0.5258\n",
      "Time elapsed 5m 1s\n",
      "valid Loss: 3.2608 Acc: 0.3411\n",
      "Optimizer learning rate : 0.0010000\n",
      "\n",
      "Epoch 7/19\n",
      "----------\n",
      "Time elapsed 5m 40s\n",
      "train Loss: 1.9603 Acc: 0.5369\n",
      "Time elapsed 5m 44s\n",
      "valid Loss: 3.2618 Acc: 0.3472\n",
      "Optimizer learning rate : 0.0010000\n",
      "\n",
      "Epoch 8/19\n",
      "----------\n",
      "Time elapsed 6m 23s\n",
      "train Loss: 1.9216 Acc: 0.5401\n",
      "Time elapsed 6m 27s\n",
      "valid Loss: 3.1651 Acc: 0.3386\n",
      "Optimizer learning rate : 0.0010000\n",
      "\n",
      "Epoch 9/19\n",
      "----------\n",
      "Time elapsed 7m 5s\n",
      "train Loss: 1.9203 Acc: 0.5458\n",
      "Time elapsed 7m 9s\n",
      "valid Loss: 3.0449 Acc: 0.3680\n",
      "Optimizer learning rate : 0.0010000\n",
      "\n",
      "Epoch 10/19\n",
      "----------\n",
      "Time elapsed 7m 48s\n",
      "train Loss: 1.8366 Acc: 0.5553\n",
      "Time elapsed 7m 52s\n",
      "valid Loss: 3.0722 Acc: 0.3545\n",
      "Optimizer learning rate : 0.0001000\n",
      "\n",
      "Epoch 11/19\n",
      "----------\n",
      "Time elapsed 8m 31s\n",
      "train Loss: 1.8324 Acc: 0.5546\n",
      "Time elapsed 8m 35s\n",
      "valid Loss: 3.0115 Acc: 0.3643\n",
      "Optimizer learning rate : 0.0001000\n",
      "\n",
      "Epoch 12/19\n",
      "----------\n",
      "Time elapsed 9m 13s\n",
      "train Loss: 1.8054 Acc: 0.5553\n",
      "Time elapsed 9m 17s\n",
      "valid Loss: 3.0688 Acc: 0.3619\n",
      "Optimizer learning rate : 0.0001000\n",
      "\n",
      "Epoch 13/19\n",
      "----------\n",
      "Time elapsed 9m 56s\n",
      "train Loss: 1.8436 Acc: 0.5534\n",
      "Time elapsed 10m 0s\n",
      "valid Loss: 3.0100 Acc: 0.3631\n",
      "Optimizer learning rate : 0.0001000\n",
      "\n",
      "Epoch 14/19\n",
      "----------\n",
      "Time elapsed 10m 39s\n",
      "train Loss: 1.7417 Acc: 0.5614\n",
      "Time elapsed 10m 43s\n",
      "valid Loss: 3.0129 Acc: 0.3655\n",
      "Optimizer learning rate : 0.0001000\n",
      "\n",
      "Epoch 15/19\n",
      "----------\n",
      "Time elapsed 11m 22s\n",
      "train Loss: 1.7610 Acc: 0.5672\n",
      "Time elapsed 11m 26s\n",
      "valid Loss: 3.0220 Acc: 0.3606\n",
      "Optimizer learning rate : 0.0000100\n",
      "\n",
      "Epoch 16/19\n",
      "----------\n",
      "Time elapsed 12m 6s\n",
      "train Loss: 1.7788 Acc: 0.5676\n",
      "Time elapsed 12m 10s\n",
      "valid Loss: 3.0104 Acc: 0.3557\n",
      "Optimizer learning rate : 0.0000100\n",
      "\n",
      "Epoch 17/19\n",
      "----------\n",
      "Time elapsed 12m 49s\n",
      "train Loss: 1.8033 Acc: 0.5638\n",
      "Time elapsed 12m 53s\n",
      "valid Loss: 3.0428 Acc: 0.3606\n",
      "Optimizer learning rate : 0.0000100\n",
      "\n",
      "Epoch 18/19\n",
      "----------\n",
      "Time elapsed 13m 33s\n",
      "train Loss: 1.8294 Acc: 0.5568\n",
      "Time elapsed 13m 37s\n",
      "valid Loss: 3.0307 Acc: 0.3509\n",
      "Optimizer learning rate : 0.0000100\n",
      "\n",
      "Epoch 19/19\n",
      "----------\n",
      "Time elapsed 14m 16s\n",
      "train Loss: 1.7949 Acc: 0.5612\n",
      "Time elapsed 14m 20s\n",
      "valid Loss: 3.0396 Acc: 0.3643\n",
      "Optimizer learning rate : 0.0000100\n",
      "\n",
      "Training complete in 14m 20s\n",
      "Best val Acc: 0.367971\n"
     ]
    }
   ],
   "source": [
    "model_ft, val_acc_history, train_acc_history, valid_losses, train_losses, LRs  = train_model(model_ft, dataloaders, criterion, optimizer_ft, num_epochs=20)"
   ]
  },
  {
   "cell_type": "markdown",
   "metadata": {
    "colab_type": "text",
    "id": "7rjvtqx0TGkb"
   },
   "source": [
    "### 再继续训练所有层"
   ]
  },
  {
   "cell_type": "code",
   "execution_count": 57,
   "metadata": {
    "colab": {},
    "colab_type": "code",
    "collapsed": true,
    "id": "cSGcACfmrIC6"
   },
   "outputs": [],
   "source": [
    "for param in model_ft.parameters():\n",
    "    param.requires_grad = True\n",
    "\n",
    "# 再继续训练所有的参数，学习率调小一点\n",
    "optimizer = optim.Adam(model_ft.parameters(), lr=1e-3)\n",
    "scheduler = optim.lr_scheduler.StepLR(optimizer_ft, step_size=7, gamma=0.1)\n",
    "\n",
    "# 损失函数\n",
    "criterion = nn.CrossEntropyLoss()"
   ]
  },
  {
   "cell_type": "code",
   "execution_count": 60,
   "metadata": {
    "colab": {},
    "colab_type": "code",
    "id": "LFiiMNWaHXfw"
   },
   "outputs": [
    {
     "data": {
      "text/plain": [
       "<All keys matched successfully>"
      ]
     },
     "execution_count": 60,
     "metadata": {},
     "output_type": "execute_result"
    }
   ],
   "source": [
    "# 加载之前训练好的权重参数\n",
    "\n",
    "checkpoint = torch.load(filename)\n",
    "best_acc = checkpoint['best_acc']\n",
    "model_ft.load_state_dict(checkpoint['state_dict'])"
   ]
  },
  {
   "cell_type": "code",
   "execution_count": 61,
   "metadata": {
    "colab": {},
    "colab_type": "code",
    "id": "_JCiyD-ytYRu"
   },
   "outputs": [
    {
     "name": "stdout",
     "output_type": "stream",
     "text": [
      "Epoch 0/9\n",
      "----------\n",
      "Time elapsed 1m 32s\n",
      "train Loss: 2.2451 Acc: 0.4846\n",
      "Time elapsed 1m 36s\n",
      "valid Loss: 2.3190 Acc: 0.4633\n",
      "Optimizer learning rate : 0.0010000\n",
      "\n",
      "Epoch 1/9\n",
      "----------\n",
      "Time elapsed 2m 54s\n",
      "train Loss: 1.2920 Acc: 0.6505\n",
      "Time elapsed 2m 58s\n",
      "valid Loss: 2.2263 Acc: 0.4670\n",
      "Optimizer learning rate : 0.0010000\n",
      "\n",
      "Epoch 2/9\n",
      "----------\n",
      "Time elapsed 4m 15s\n",
      "train Loss: 1.1026 Acc: 0.6993\n",
      "Time elapsed 4m 19s\n",
      "valid Loss: 1.8115 Acc: 0.5452\n",
      "Optimizer learning rate : 0.0010000\n",
      "\n",
      "Epoch 3/9\n",
      "----------\n",
      "Time elapsed 5m 35s\n",
      "train Loss: 0.9062 Acc: 0.7515\n",
      "Time elapsed 5m 39s\n",
      "valid Loss: 2.0045 Acc: 0.5403\n",
      "Optimizer learning rate : 0.0010000\n",
      "\n",
      "Epoch 4/9\n",
      "----------\n",
      "Time elapsed 6m 56s\n",
      "train Loss: 0.8392 Acc: 0.7643\n",
      "Time elapsed 7m 0s\n",
      "valid Loss: 2.1381 Acc: 0.5171\n",
      "Optimizer learning rate : 0.0010000\n",
      "\n",
      "Epoch 5/9\n",
      "----------\n",
      "Time elapsed 8m 17s\n",
      "train Loss: 0.7081 Acc: 0.7953\n",
      "Time elapsed 8m 21s\n",
      "valid Loss: 2.0461 Acc: 0.5599\n",
      "Optimizer learning rate : 0.0010000\n",
      "\n",
      "Epoch 6/9\n",
      "----------\n",
      "Time elapsed 9m 38s\n",
      "train Loss: 0.6400 Acc: 0.8147\n",
      "Time elapsed 9m 42s\n",
      "valid Loss: 2.2603 Acc: 0.5452\n",
      "Optimizer learning rate : 0.0010000\n",
      "\n",
      "Epoch 7/9\n",
      "----------\n",
      "Time elapsed 10m 59s\n",
      "train Loss: 0.6406 Acc: 0.8117\n",
      "Time elapsed 11m 3s\n",
      "valid Loss: 1.4649 Acc: 0.6406\n",
      "Optimizer learning rate : 0.0010000\n",
      "\n",
      "Epoch 8/9\n",
      "----------\n",
      "Time elapsed 12m 20s\n",
      "train Loss: 0.5686 Acc: 0.8300\n",
      "Time elapsed 12m 24s\n",
      "valid Loss: 1.7538 Acc: 0.6100\n",
      "Optimizer learning rate : 0.0010000\n",
      "\n",
      "Epoch 9/9\n",
      "----------\n",
      "Time elapsed 13m 41s\n",
      "train Loss: 0.5978 Acc: 0.8245\n",
      "Time elapsed 13m 45s\n",
      "valid Loss: 1.6953 Acc: 0.6161\n",
      "Optimizer learning rate : 0.0010000\n",
      "\n",
      "Training complete in 13m 45s\n",
      "Best val Acc: 0.640587\n"
     ]
    }
   ],
   "source": [
    "model_ft, val_acc_history, train_acc_history, valid_losses, train_losses, LRs  = train_model(model_ft, dataloaders, criterion, optimizer, num_epochs=10,)"
   ]
  },
  {
   "cell_type": "markdown",
   "metadata": {
    "colab_type": "text",
    "id": "EbetBY4bd9_U"
   },
   "source": [
    "### 加载训练好的模型"
   ]
  },
  {
   "cell_type": "code",
   "execution_count": 62,
   "metadata": {
    "colab": {
     "base_uri": "https://localhost:8080/",
     "height": 68
    },
    "colab_type": "code",
    "id": "0IXiW9_2d9_U",
    "outputId": "2f21f369-df6a-433f-812a-1bbb87d30fa6"
   },
   "outputs": [
    {
     "data": {
      "text/plain": [
       "<All keys matched successfully>"
      ]
     },
     "execution_count": 62,
     "metadata": {},
     "output_type": "execute_result"
    }
   ],
   "source": [
    "model_ft, input_size = initialize_model(model_name, 102, feature_extract, use_pretrained=True)\n",
    "\n",
    "# GPU模式\n",
    "model_ft = model_ft.to(device)\n",
    "\n",
    "# 保存文件的名字\n",
    "filename='best.pt'\n",
    "\n",
    "# 加载模型\n",
    "checkpoint = torch.load(filename)\n",
    "best_acc = checkpoint['best_acc']\n",
    "model_ft.load_state_dict(checkpoint['state_dict'])"
   ]
  },
  {
   "cell_type": "markdown",
   "metadata": {
    "colab_type": "text",
    "id": "PXCZPK70d9_W"
   },
   "source": [
    "### 测试数据预处理\n",
    "\n",
    "- 测试数据处理方法需要跟训练时一直才可以 \n",
    "- crop操作的目的是保证输入的大小是一致的\n",
    "- 标准化操作也是必须的，用跟训练数据相同的mean和std,但是需要注意一点训练数据是在0-1上进行标准化，所以测试数据也需要先归一化\n",
    "- 最后一点，PyTorch中颜色通道是第一个维度，跟很多工具包都不一样，需要转换\n"
   ]
  },
  {
   "cell_type": "code",
   "execution_count": 98,
   "metadata": {
    "collapsed": true
   },
   "outputs": [],
   "source": [
    "# 得到一个batch的测试数据\n",
    "dataiter = iter(dataloaders['valid'])\n",
    "images, labels = dataiter.next()\n",
    "\n",
    "model_ft.eval()\n",
    "\n",
    "if train_on_gpu:\n",
    "    output = model_ft(images.cuda())\n",
    "else:\n",
    "    output = model_ft(images)"
   ]
  },
  {
   "cell_type": "markdown",
   "metadata": {},
   "source": [
    "output表示对一个batch中每一个数据得到其属于各个类别的可能性"
   ]
  },
  {
   "cell_type": "code",
   "execution_count": 99,
   "metadata": {},
   "outputs": [
    {
     "data": {
      "text/plain": [
       "torch.Size([128, 102])"
      ]
     },
     "execution_count": 99,
     "metadata": {},
     "output_type": "execute_result"
    }
   ],
   "source": [
    "output.shape"
   ]
  },
  {
   "cell_type": "markdown",
   "metadata": {},
   "source": [
    "### 得到概率最大的那个"
   ]
  },
  {
   "cell_type": "code",
   "execution_count": 100,
   "metadata": {},
   "outputs": [
    {
     "data": {
      "text/plain": [
       "array([ 34,  49,  43,  54,  20,  14,  49,  43,  50,  20,  19, 100,  78,\n",
       "        96,  96,  62,  62,  63,  32,  38,  82,  43,  88,  73,   6,  51,\n",
       "        43,  89,  55,  75,  55,  11,  46,  82,  48,  82,  20, 100,  48,\n",
       "        20,  24,  49,  76,  93,  49,  46,  90,  75,  89,  75,  76,  99,\n",
       "        56,  48,  77,  66,  60,  72,  89,  97,  76,  73,  17,  48,  39,\n",
       "        31,  19,  74,  61,  46,  93,  80,  27,  11,  91,  18,  23,  47,\n",
       "        29,  54,  18,  93,   1,  50,  79,  96,  39,  53,  63,  60,  49,\n",
       "        23,  23,  52,  99,  89,   3,  50,  64,  15,  19,  60,  19,  75,\n",
       "        50,  78,  82,  18,  75,  18,  82,  53,   3,  52,  60,  38,  62,\n",
       "        47,  21,  59,  81,  48,  89,  64,  60,  55, 100,  60], dtype=int64)"
      ]
     },
     "execution_count": 100,
     "metadata": {},
     "output_type": "execute_result"
    }
   ],
   "source": [
    "_, preds_tensor = torch.max(output, 1)\n",
    "\n",
    "preds = np.squeeze(preds_tensor.numpy()) if not train_on_gpu else np.squeeze(preds_tensor.cpu().numpy())\n",
    "preds"
   ]
  },
  {
   "cell_type": "markdown",
   "metadata": {},
   "source": [
    "### 展示预测结果"
   ]
  },
  {
   "cell_type": "code",
   "execution_count": 101,
   "metadata": {
    "collapsed": true
   },
   "outputs": [],
   "source": [
    "def im_convert(tensor):\n",
    "    \"\"\" 展示数据\"\"\"\n",
    "    \n",
    "    image = tensor.to(\"cpu\").clone().detach()\n",
    "    image = image.numpy().squeeze()\n",
    "    image = image.transpose(1,2,0)\n",
    "    image = image * np.array((0.229, 0.224, 0.225)) + np.array((0.485, 0.456, 0.406))\n",
    "    image = image.clip(0, 1)\n",
    "\n",
    "    return image"
   ]
  },
  {
   "cell_type": "code",
   "execution_count": 102,
   "metadata": {},
   "outputs": [
    {
     "data": {
      "image/png": "[encoded data removed]",
      "text/plain": [
       "<Figure size 1440x1440 with 8 Axes>"
      ]
     },
     "metadata": {},
     "output_type": "display_data"
    }
   ],
   "source": [
    "fig=plt.figure(figsize=(20, 20))\n",
    "columns =4\n",
    "rows = 2\n",
    "\n",
    "for idx in range (columns*rows):\n",
    "    ax = fig.add_subplot(rows, columns, idx+1, xticks=[], yticks=[])\n",
    "    plt.imshow(im_convert(images[idx]))\n",
    "    ax.set_title(\"{} ({})\".format(cat_to_name[str(preds[idx])], cat_to_name[str(labels[idx].item())]),\n",
    "                 color=(\"green\" if cat_to_name[str(preds[idx])]==cat_to_name[str(labels[idx].item())] else \"red\"))\n",
    "plt.show()"
   ]
  },
  {
   "cell_type": "code",
   "execution_count": null,
   "metadata": {
    "collapsed": true
   },
   "outputs": [],
   "source": []
  },
  {
   "cell_type": "code",
   "execution_count": null,
   "metadata": {
    "collapsed": true
   },
   "outputs": [],
   "source": []
  }
 ],
 "metadata": {
  "accelerator": "GPU",
  "colab": {
   "collapsed_sections": [],
   "name": "Flowers Classification.ipynb",
   "provenance": [],
   "version": "0.3.2"
  },
  "kernelspec": {
   "display_name": "Python 3",
   "language": "python",
   "name": "python3"
  },
  "language_info": {
   "codemirror_mode": {
    "name": "ipython",
    "version": 3
   },
   "file_extension": ".py",
   "mimetype": "text/x-python",
   "name": "python",
   "nbconvert_exporter": "python",
   "pygments_lexer": "ipython3",
   "version": "3.6.3"
  }
 },
 "nbformat": 4,
 "nbformat_minor": 1
}
